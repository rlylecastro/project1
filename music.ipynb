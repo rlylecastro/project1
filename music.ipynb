{
 "cells": [
  {
   "cell_type": "code",
   "execution_count": 18,
   "metadata": {},
   "outputs": [
    {
     "name": "stdout",
     "output_type": "stream",
     "text": [
      "[\n",
      "    {\n",
      "        \"danceability\": 0.746,\n",
      "        \"energy\": 0.69,\n",
      "        \"key\": 11,\n",
      "        \"loudness\": -7.956,\n",
      "        \"mode\": 1,\n",
      "        \"speechiness\": 0.164,\n",
      "        \"acousticness\": 0.247,\n",
      "        \"instrumentalness\": 0,\n",
      "        \"liveness\": 0.101,\n",
      "        \"valence\": 0.497,\n",
      "        \"tempo\": 89.977,\n",
      "        \"type\": \"audio_features\",\n",
      "        \"id\": \"7ytR5pFWmSjzHJIeQkgog4\",\n",
      "        \"uri\": \"spotify:track:7ytR5pFWmSjzHJIeQkgog4\",\n",
      "        \"track_href\": \"https://api.spotify.com/v1/tracks/7ytR5pFWmSjzHJIeQkgog4\",\n",
      "        \"analysis_url\": \"https://api.spotify.com/v1/audio-analysis/7ytR5pFWmSjzHJIeQkgog4\",\n",
      "        \"duration_ms\": 181733,\n",
      "        \"time_signature\": 4\n",
      "    }\n",
      "]\n",
      "danceability: 0.746\n"
     ]
    }
   ],
   "source": [
    "import sys\n",
    "import spotipy\n",
    "import spotipy.util as util\n",
    "from spotipy.oauth2 import SpotifyClientCredentials\n",
    "import json\n",
    "import time\n",
    "\n",
    "\n",
    "\n",
    "# example tid to be pulled from excel\n",
    "tid = '7ytR5pFWmSjzHJIeQkgog4'\n",
    "\n",
    "client_credentials_manager = SpotifyClientCredentials(client_id='09b1d71bfca845e9b744f70294704da2',\n",
    "                           client_secret='581c60a4f6c347be9a749bf0a1bb5634')\n",
    "sp = spotipy.Spotify(client_credentials_manager=client_credentials_manager)\n",
    "\n",
    "\n",
    "if len(sys.argv) > 1:\n",
    "    features = sp.audio_features(tid)\n",
    "\n",
    "    print(json.dumps(features, indent=4))\n",
    "print(f'danceability: {features[0][\"danceability\"]}')"
   ]
  },
  {
   "cell_type": "code",
   "execution_count": 12,
   "metadata": {},
   "outputs": [
    {
     "name": "stdout",
     "output_type": "stream",
     "text": [
      "[\n",
      "    {\n",
      "        \"danceability\": 0.746,\n",
      "        \"energy\": 0.69,\n",
      "        \"key\": 11,\n",
      "        \"loudness\": -7.956,\n",
      "        \"mode\": 1,\n",
      "        \"speechiness\": 0.164,\n",
      "        \"acousticness\": 0.247,\n",
      "        \"instrumentalness\": 0,\n",
      "        \"liveness\": 0.101,\n",
      "        \"valence\": 0.497,\n",
      "        \"tempo\": 89.977,\n",
      "        \"type\": \"audio_features\",\n",
      "        \"id\": \"7ytR5pFWmSjzHJIeQkgog4\",\n",
      "        \"uri\": \"spotify:track:7ytR5pFWmSjzHJIeQkgog4\",\n",
      "        \"track_href\": \"https://api.spotify.com/v1/tracks/7ytR5pFWmSjzHJIeQkgog4\",\n",
      "        \"analysis_url\": \"https://api.spotify.com/v1/audio-analysis/7ytR5pFWmSjzHJIeQkgog4\",\n",
      "        \"duration_ms\": 181733,\n",
      "        \"time_signature\": 4\n",
      "    }\n",
      "]\n"
     ]
    }
   ],
   "source": [
    "import sys\n",
    "import spotipy\n",
    "import spotipy.util as util\n",
    "from spotipy.oauth2 import SpotifyClientCredentials\n",
    "\n",
    "#SPOTIPY_CLIENT_ID='09b1d71bfca845e9b744f70294704da2'\n",
    "#SPOTIPY_CLIENT_SECRET='581c60a4f6c347be9a749bf0a1bb5634'\n",
    "#SPOTIPY_REDIRECT_URI='https://localhost:8080/'\n",
    "\n",
    "scope = 'user-library-read'\n",
    "\n",
    "if len(sys.argv) > 1:\n",
    "    username = sys.argv[1]\n",
    "else:\n",
    "    print(\"Usage: %s username\" % (sys.argv[0],))\n",
    "    sys.exit()\n",
    "\n",
    "token = util.prompt_for_user_token(username,\n",
    "                           scope,\n",
    "                           client_id='09b1d71bfca845e9b744f70294704da2',\n",
    "                           client_secret='581c60a4f6c347be9a749bf0a1bb5634',\n",
    "                           redirect_uri='http://127.0.0.1:8080')\n",
    "\n",
    "if token:\n",
    "    features = sp.audio_features('7ytR5pFWmSjzHJIeQkgog4')\n",
    "    print(json.dumps(features, indent=4))\n",
    "\n",
    "else:\n",
    "    print(\"Can't get token for\", username)"
   ]
  },
  {
   "cell_type": "code",
   "execution_count": null,
   "metadata": {},
   "outputs": [],
   "source": []
  }
 ],
 "metadata": {
  "kernelspec": {
   "display_name": "Python 3",
   "language": "python",
   "name": "python3"
  },
  "language_info": {
   "codemirror_mode": {
    "name": "ipython",
    "version": 3
   },
   "file_extension": ".py",
   "mimetype": "text/x-python",
   "name": "python",
   "nbconvert_exporter": "python",
   "pygments_lexer": "ipython3",
   "version": "3.6.10"
  },
  "varInspector": {
   "cols": {
    "lenName": 16,
    "lenType": 16,
    "lenVar": 40
   },
   "kernels_config": {
    "python": {
     "delete_cmd_postfix": "",
     "delete_cmd_prefix": "del ",
     "library": "var_list.py",
     "varRefreshCmd": "print(var_dic_list())"
    },
    "r": {
     "delete_cmd_postfix": ") ",
     "delete_cmd_prefix": "rm(",
     "library": "var_list.r",
     "varRefreshCmd": "cat(var_dic_list()) "
    }
   },
   "types_to_exclude": [
    "module",
    "function",
    "builtin_function_or_method",
    "instance",
    "_Feature"
   ],
   "window_display": false
  }
 },
 "nbformat": 4,
 "nbformat_minor": 2
}
