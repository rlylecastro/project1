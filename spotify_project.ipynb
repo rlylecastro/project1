{
 "cells": [
  {
   "cell_type": "code",
   "execution_count": 1,
   "metadata": {},
   "outputs": [],
   "source": [
    "import pandas as pd\n",
    "data = pd.read_excel('Hot 100 Audio Features.xlsx')"
   ]
  },
  {
   "cell_type": "code",
   "execution_count": 2,
   "metadata": {},
   "outputs": [],
   "source": [
    "data['spotify_genre'] = data['spotify_genre'].fillna('')"
   ]
  },
  {
   "cell_type": "code",
   "execution_count": 3,
   "metadata": {},
   "outputs": [
    {
     "data": {
      "text/plain": [
       "0                                     ['pop reggaeton']\n",
       "1     ['arkansas country', 'contemporary country', '...\n",
       "2                                  ['dance pop', 'pop']\n",
       "3                     ['dfw rap', 'melodic rap', 'rap']\n",
       "4        ['dfw rap', 'rap', 'southern hip hop', 'trap']\n",
       "5                 ['dance pop', 'pop', 'post-teen pop']\n",
       "6                                 ['nc hip hop', 'rap']\n",
       "7                         ['hip hop', 'pop rap', 'rap']\n",
       "8                     ['dfw rap', 'melodic rap', 'rap']\n",
       "9                                                      \n",
       "10                                  ['memphis hip hop']\n",
       "11                ['dance pop', 'pop', 'post-teen pop']\n",
       "12        ['dance pop', 'pop', 'pop rap', 'r&b', 'rap']\n",
       "13                                                     \n",
       "14                                              ['pop']\n",
       "15                         ['k-pop', 'k-pop boy group']\n",
       "16                        ['hip hop', 'pop rap', 'rap']\n",
       "17                                      ['florida rap']\n",
       "18                       ['melodic rap', 'rap', 'trap']\n",
       "19                                ['nc hip hop', 'rap']\n",
       "Name: spotify_genre, dtype: object"
      ]
     },
     "execution_count": 3,
     "metadata": {},
     "output_type": "execute_result"
    }
   ],
   "source": [
    "data['spotify_genre'].head(20)"
   ]
  },
  {
   "cell_type": "code",
   "execution_count": 4,
   "metadata": {},
   "outputs": [],
   "source": [
    "genre_dict ={}\n",
    "for x in range(len(data)):\n",
    "    listfield = data.loc[x,'spotify_genre']\n",
    "    result_str = \"\"\n",
    "    for i in range(0, len(listfield)):\n",
    "        if (listfield[i] != '[') and (listfield[i] != ']') and (listfield[i] != \"'\"):\n",
    "            result_str = result_str + listfield[i]\n",
    "    if len(listfield) != 0:\n",
    "        listfield = result_str.split(\",\")\n",
    "        for g in listfield:\n",
    "            if g in genre_dict:\n",
    "                genre_dict[g] = genre_dict[g] + 1\n",
    "            else:\n",
    "                genre_dict[g] = 1\n",
    "#print(genre_dict)\n",
    "dict_df = pd.DataFrame(list(genre_dict.items()),columns=['Genre','count'])\n"
   ]
  },
  {
   "cell_type": "code",
   "execution_count": 5,
   "metadata": {},
   "outputs": [
    {
     "data": {
      "text/html": [
       "<div>\n",
       "<style scoped>\n",
       "    .dataframe tbody tr th:only-of-type {\n",
       "        vertical-align: middle;\n",
       "    }\n",
       "\n",
       "    .dataframe tbody tr th {\n",
       "        vertical-align: top;\n",
       "    }\n",
       "\n",
       "    .dataframe thead th {\n",
       "        text-align: right;\n",
       "    }\n",
       "</style>\n",
       "<table border=\"1\" class=\"dataframe\">\n",
       "  <thead>\n",
       "    <tr style=\"text-align: right;\">\n",
       "      <th></th>\n",
       "      <th>Genre</th>\n",
       "      <th>count</th>\n",
       "    </tr>\n",
       "  </thead>\n",
       "  <tbody>\n",
       "    <tr>\n",
       "      <th>110</th>\n",
       "      <td>mellow gold</td>\n",
       "      <td>3888</td>\n",
       "    </tr>\n",
       "    <tr>\n",
       "      <th>60</th>\n",
       "      <td>adult standards</td>\n",
       "      <td>3706</td>\n",
       "    </tr>\n",
       "    <tr>\n",
       "      <th>167</th>\n",
       "      <td>soft rock</td>\n",
       "      <td>3703</td>\n",
       "    </tr>\n",
       "    <tr>\n",
       "      <th>108</th>\n",
       "      <td>rock</td>\n",
       "      <td>3218</td>\n",
       "    </tr>\n",
       "    <tr>\n",
       "      <th>147</th>\n",
       "      <td>soul</td>\n",
       "      <td>2881</td>\n",
       "    </tr>\n",
       "    <tr>\n",
       "      <th>63</th>\n",
       "      <td>motown</td>\n",
       "      <td>2681</td>\n",
       "    </tr>\n",
       "    <tr>\n",
       "      <th>8</th>\n",
       "      <td>pop</td>\n",
       "      <td>2536</td>\n",
       "    </tr>\n",
       "    <tr>\n",
       "      <th>193</th>\n",
       "      <td>folk rock</td>\n",
       "      <td>2517</td>\n",
       "    </tr>\n",
       "    <tr>\n",
       "      <th>17</th>\n",
       "      <td>pop rap</td>\n",
       "      <td>2474</td>\n",
       "    </tr>\n",
       "    <tr>\n",
       "      <th>11</th>\n",
       "      <td>rap</td>\n",
       "      <td>2364</td>\n",
       "    </tr>\n",
       "  </tbody>\n",
       "</table>\n",
       "</div>"
      ],
      "text/plain": [
       "               Genre  count\n",
       "110      mellow gold   3888\n",
       "60   adult standards   3706\n",
       "167        soft rock   3703\n",
       "108             rock   3218\n",
       "147             soul   2881\n",
       "63            motown   2681\n",
       "8                pop   2536\n",
       "193        folk rock   2517\n",
       "17           pop rap   2474\n",
       "11               rap   2364"
      ]
     },
     "execution_count": 5,
     "metadata": {},
     "output_type": "execute_result"
    }
   ],
   "source": [
    "dict_df.loc[dict_df['Genre']=='','count'] = 0\n",
    "dict_df.sort_values('count', ascending=False).head(10)"
   ]
  },
  {
   "cell_type": "code",
   "execution_count": 6,
   "metadata": {},
   "outputs": [
    {
     "data": {
      "image/png": "[encoded data removed]",
      "text/plain": [
       "<Figure size 432x288 with 1 Axes>"
      ]
     },
     "metadata": {
      "needs_background": "light"
     },
     "output_type": "display_data"
    }
   ],
   "source": [
    "import matplotlib.pyplot as plt\n",
    "dict_df.sort_values('count', ascending=False).head(10).plot.barh(x='Genre', y ='count')\n",
    "plt.gca().invert_yaxis()"
   ]
  }
 ],
 "metadata": {
  "kernelspec": {
   "display_name": "Python 3",
   "language": "python",
   "name": "python3"
  },
  "language_info": {
   "codemirror_mode": {
    "name": "ipython",
    "version": 3
   },
   "file_extension": ".py",
   "mimetype": "text/x-python",
   "name": "python",
   "nbconvert_exporter": "python",
   "pygments_lexer": "ipython3",
   "version": "3.7.6"
  }
 },
 "nbformat": 4,
 "nbformat_minor": 4
}
