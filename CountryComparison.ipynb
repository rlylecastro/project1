{
 "cells": [
  {
   "cell_type": "code",
   "execution_count": 2,
   "metadata": {},
   "outputs": [],
   "source": [
    "#This file will examine charts of the top 200 songs globally and from 62 countries for the week of 07/10/2020\n",
    "#to 07/16/20 to determine if there is a significant relation between where a song becomes popular and its global\n",
    "#relevance.\n",
    "\n",
    "\n",
    "#bringing in dependencies\n",
    "import pandas as pd\n",
    "import glob\n",
    "import os\n",
    "\n",
    "import csv\n",
    "import statistics\n",
    "import seaborn as sns\n",
    "import matplotlib.pyplot as plt\n",
    "import scipy.stats as sts\n",
    "import numpy as np\n",
    "import sys\n",
    "import json\n",
    "import re"
   ]
  },
  {
   "cell_type": "code",
   "execution_count": 3,
   "metadata": {},
   "outputs": [
    {
     "data": {
      "text/html": [
       "<div>\n",
       "<style scoped>\n",
       "    .dataframe tbody tr th:only-of-type {\n",
       "        vertical-align: middle;\n",
       "    }\n",
       "\n",
       "    .dataframe tbody tr th {\n",
       "        vertical-align: top;\n",
       "    }\n",
       "\n",
       "    .dataframe thead th {\n",
       "        text-align: right;\n",
       "    }\n",
       "</style>\n",
       "<table border=\"1\" class=\"dataframe\">\n",
       "  <thead>\n",
       "    <tr style=\"text-align: right;\">\n",
       "      <th></th>\n",
       "      <th>Unnamed: 0</th>\n",
       "      <th>Unnamed: 1</th>\n",
       "      <th>Unnamed: 2</th>\n",
       "      <th>Note that these figures are generated using a formula that protects against any artificial inflation of chart positions.</th>\n",
       "      <th>Unnamed: 4</th>\n",
       "    </tr>\n",
       "  </thead>\n",
       "  <tbody>\n",
       "    <tr>\n",
       "      <th>0</th>\n",
       "      <td>Position</td>\n",
       "      <td>Track Name</td>\n",
       "      <td>Artist</td>\n",
       "      <td>Streams</td>\n",
       "      <td>URL</td>\n",
       "    </tr>\n",
       "    <tr>\n",
       "      <th>1</th>\n",
       "      <td>1</td>\n",
       "      <td>ROCKSTAR (feat. Roddy Ricch)</td>\n",
       "      <td>DaBaby</td>\n",
       "      <td>36999793</td>\n",
       "      <td>https://open.spotify.com/track/7ytR5pFWmSjzHJI...</td>\n",
       "    </tr>\n",
       "    <tr>\n",
       "      <th>2</th>\n",
       "      <td>2</td>\n",
       "      <td>Savage Love (Laxed - Siren Beat)</td>\n",
       "      <td>Jawsh 685</td>\n",
       "      <td>34262951</td>\n",
       "      <td>https://open.spotify.com/track/1xQ6trAsedVPCdb...</td>\n",
       "    </tr>\n",
       "    <tr>\n",
       "      <th>3</th>\n",
       "      <td>3</td>\n",
       "      <td>Blinding Lights</td>\n",
       "      <td>The Weeknd</td>\n",
       "      <td>30727192</td>\n",
       "      <td>https://open.spotify.com/track/0VjIjW4GlUZAMYd...</td>\n",
       "    </tr>\n",
       "    <tr>\n",
       "      <th>4</th>\n",
       "      <td>4</td>\n",
       "      <td>Come &amp; Go (with Marshmello)</td>\n",
       "      <td>Juice WRLD</td>\n",
       "      <td>30027587</td>\n",
       "      <td>https://open.spotify.com/track/7y7w4tl4MaRC2UM...</td>\n",
       "    </tr>\n",
       "  </tbody>\n",
       "</table>\n",
       "</div>"
      ],
      "text/plain": [
       "  Unnamed: 0                        Unnamed: 1  Unnamed: 2  \\\n",
       "0   Position                        Track Name      Artist   \n",
       "1          1      ROCKSTAR (feat. Roddy Ricch)      DaBaby   \n",
       "2          2  Savage Love (Laxed - Siren Beat)   Jawsh 685   \n",
       "3          3                   Blinding Lights  The Weeknd   \n",
       "4          4       Come & Go (with Marshmello)  Juice WRLD   \n",
       "\n",
       "  Note that these figures are generated using a formula that protects against any artificial inflation of chart positions.  \\\n",
       "0                                            Streams                                                                         \n",
       "1                                           36999793                                                                         \n",
       "2                                           34262951                                                                         \n",
       "3                                           30727192                                                                         \n",
       "4                                           30027587                                                                         \n",
       "\n",
       "                                          Unnamed: 4  \n",
       "0                                                URL  \n",
       "1  https://open.spotify.com/track/7ytR5pFWmSjzHJI...  \n",
       "2  https://open.spotify.com/track/1xQ6trAsedVPCdb...  \n",
       "3  https://open.spotify.com/track/0VjIjW4GlUZAMYd...  \n",
       "4  https://open.spotify.com/track/7y7w4tl4MaRC2UM...  "
      ]
     },
     "execution_count": 3,
     "metadata": {},
     "output_type": "execute_result"
    }
   ],
   "source": [
    "#bringing in global chart\n",
    "globalchart = os.path.join(\"WeeklyCharts\", \"Global Weekly Chart.csv\")\n",
    "\n",
    "#making it readable with pandas library\n",
    "globalchart_df = pd.read_csv(globalchart)\n",
    "globalchart_df.head()\n"
   ]
  },
  {
   "cell_type": "code",
   "execution_count": 4,
   "metadata": {},
   "outputs": [
    {
     "data": {
      "text/html": [
       "<div>\n",
       "<style scoped>\n",
       "    .dataframe tbody tr th:only-of-type {\n",
       "        vertical-align: middle;\n",
       "    }\n",
       "\n",
       "    .dataframe tbody tr th {\n",
       "        vertical-align: top;\n",
       "    }\n",
       "\n",
       "    .dataframe thead th {\n",
       "        text-align: right;\n",
       "    }\n",
       "</style>\n",
       "<table border=\"1\" class=\"dataframe\">\n",
       "  <thead>\n",
       "    <tr style=\"text-align: right;\">\n",
       "      <th></th>\n",
       "      <th>Global - Rank</th>\n",
       "      <th>Name of Track</th>\n",
       "      <th>Artist</th>\n",
       "    </tr>\n",
       "  </thead>\n",
       "  <tbody>\n",
       "    <tr>\n",
       "      <th>0</th>\n",
       "      <td>Position</td>\n",
       "      <td>Track Name</td>\n",
       "      <td>Artist</td>\n",
       "    </tr>\n",
       "    <tr>\n",
       "      <th>1</th>\n",
       "      <td>1</td>\n",
       "      <td>ROCKSTAR (feat. Roddy Ricch)</td>\n",
       "      <td>DaBaby</td>\n",
       "    </tr>\n",
       "    <tr>\n",
       "      <th>2</th>\n",
       "      <td>2</td>\n",
       "      <td>Savage Love (Laxed - Siren Beat)</td>\n",
       "      <td>Jawsh 685</td>\n",
       "    </tr>\n",
       "    <tr>\n",
       "      <th>3</th>\n",
       "      <td>3</td>\n",
       "      <td>Blinding Lights</td>\n",
       "      <td>The Weeknd</td>\n",
       "    </tr>\n",
       "    <tr>\n",
       "      <th>4</th>\n",
       "      <td>4</td>\n",
       "      <td>Come &amp; Go (with Marshmello)</td>\n",
       "      <td>Juice WRLD</td>\n",
       "    </tr>\n",
       "    <tr>\n",
       "      <th>5</th>\n",
       "      <td>5</td>\n",
       "      <td>Watermelon Sugar</td>\n",
       "      <td>Harry Styles</td>\n",
       "    </tr>\n",
       "    <tr>\n",
       "      <th>6</th>\n",
       "      <td>6</td>\n",
       "      <td>Roses - Imanbek Remix</td>\n",
       "      <td>SAINt JHN</td>\n",
       "    </tr>\n",
       "    <tr>\n",
       "      <th>7</th>\n",
       "      <td>7</td>\n",
       "      <td>Wishing Well</td>\n",
       "      <td>Juice WRLD</td>\n",
       "    </tr>\n",
       "    <tr>\n",
       "      <th>8</th>\n",
       "      <td>8</td>\n",
       "      <td>Life's A Mess (feat. Halsey)</td>\n",
       "      <td>Juice WRLD</td>\n",
       "    </tr>\n",
       "    <tr>\n",
       "      <th>9</th>\n",
       "      <td>9</td>\n",
       "      <td>Conversations</td>\n",
       "      <td>Juice WRLD</td>\n",
       "    </tr>\n",
       "    <tr>\n",
       "      <th>10</th>\n",
       "      <td>10</td>\n",
       "      <td>Party Girl (Remix)</td>\n",
       "      <td>StaySolidRocky</td>\n",
       "    </tr>\n",
       "    <tr>\n",
       "      <th>11</th>\n",
       "      <td>11</td>\n",
       "      <td>Breaking Me</td>\n",
       "      <td>Topic</td>\n",
       "    </tr>\n",
       "    <tr>\n",
       "      <th>12</th>\n",
       "      <td>12</td>\n",
       "      <td>death bed (coffee for your head) (feat. beabad...</td>\n",
       "      <td>Powfu</td>\n",
       "    </tr>\n",
       "    <tr>\n",
       "      <th>13</th>\n",
       "      <td>13</td>\n",
       "      <td>Rain On Me (with Ariana Grande)</td>\n",
       "      <td>Lady Gaga</td>\n",
       "    </tr>\n",
       "    <tr>\n",
       "      <th>14</th>\n",
       "      <td>14</td>\n",
       "      <td>Hate The Other Side (with Marshmello &amp; The Kid...</td>\n",
       "      <td>Juice WRLD</td>\n",
       "    </tr>\n",
       "  </tbody>\n",
       "</table>\n",
       "</div>"
      ],
      "text/plain": [
       "   Global - Rank                                      Name of Track  \\\n",
       "0       Position                                         Track Name   \n",
       "1              1                       ROCKSTAR (feat. Roddy Ricch)   \n",
       "2              2                   Savage Love (Laxed - Siren Beat)   \n",
       "3              3                                    Blinding Lights   \n",
       "4              4                        Come & Go (with Marshmello)   \n",
       "5              5                                   Watermelon Sugar   \n",
       "6              6                              Roses - Imanbek Remix   \n",
       "7              7                                       Wishing Well   \n",
       "8              8                       Life's A Mess (feat. Halsey)   \n",
       "9              9                                      Conversations   \n",
       "10            10                                 Party Girl (Remix)   \n",
       "11            11                                        Breaking Me   \n",
       "12            12  death bed (coffee for your head) (feat. beabad...   \n",
       "13            13                    Rain On Me (with Ariana Grande)   \n",
       "14            14  Hate The Other Side (with Marshmello & The Kid...   \n",
       "\n",
       "            Artist  \n",
       "0           Artist  \n",
       "1           DaBaby  \n",
       "2        Jawsh 685  \n",
       "3       The Weeknd  \n",
       "4       Juice WRLD  \n",
       "5     Harry Styles  \n",
       "6        SAINt JHN  \n",
       "7       Juice WRLD  \n",
       "8       Juice WRLD  \n",
       "9       Juice WRLD  \n",
       "10  StaySolidRocky  \n",
       "11           Topic  \n",
       "12           Powfu  \n",
       "13       Lady Gaga  \n",
       "14      Juice WRLD  "
      ]
     },
     "execution_count": 4,
     "metadata": {},
     "output_type": "execute_result"
    }
   ],
   "source": [
    "#cleaning up chart a bit by removing unnecessary columns and correcting headers\n",
    "globalchart_clean_df = globalchart_df.drop(columns=['Note that these figures are generated using a formula ' +\n",
    "                                                    'that protects against any artificial inflation of chart ' +\n",
    "                                                    'positions.', 'Unnamed: 4'])\n",
    "globalchart_clean_df.rename(columns = {'Unnamed: 0' : 'Global - Rank', 'Unnamed: 1' :\n",
    "                                       'Name of Track', 'Unnamed: 2' : 'Artist'}, inplace=True)\n",
    "\n",
    "\n",
    "globalchart_clean_df.head(15)\n"
   ]
  },
  {
   "cell_type": "code",
   "execution_count": 5,
   "metadata": {},
   "outputs": [
    {
     "name": "stderr",
     "output_type": "stream",
     "text": [
      "/Applications/anaconda3/envs/PythonData/lib/python3.6/re.py:212: FutureWarning: split() requires a non-empty pattern match.\n",
      "  return _compile(pattern, flags).split(string, maxsplit)\n"
     ]
    }
   ],
   "source": [
    "#Now working on making the data more readable in the files so that we can look at it holistically\n",
    "\n",
    "#accessing all files in folder\n",
    "allFiles = glob.glob(os.path.join(\"WeeklyCharts\",\"*.csv\"))\n",
    "\n",
    "#adding them to a list\n",
    "chart_list = []\n",
    "\n",
    "for file in allFiles:\n",
    "    chart_list.append(file)\n",
    "chart_list.sort()\n",
    "\n",
    "\n",
    "#getting a list of just the countries for later\n",
    "country_list = []\n",
    "\n",
    "for country in chart_list:\n",
    "    name = country\n",
    "    y = re.split('/| Weekly C|', name)\n",
    "    country_list.append(y[1])\n",
    "country_list.sort()\n"
   ]
  },
  {
   "cell_type": "code",
   "execution_count": 6,
   "metadata": {
    "scrolled": true
   },
   "outputs": [
    {
     "data": {
      "text/html": [
       "<div>\n",
       "<style scoped>\n",
       "    .dataframe tbody tr th:only-of-type {\n",
       "        vertical-align: middle;\n",
       "    }\n",
       "\n",
       "    .dataframe tbody tr th {\n",
       "        vertical-align: top;\n",
       "    }\n",
       "\n",
       "    .dataframe thead th {\n",
       "        text-align: right;\n",
       "    }\n",
       "</style>\n",
       "<table border=\"1\" class=\"dataframe\">\n",
       "  <thead>\n",
       "    <tr style=\"text-align: right;\">\n",
       "      <th></th>\n",
       "      <th></th>\n",
       "      <th>Global - Rank_x</th>\n",
       "      <th>Argentina - Rank</th>\n",
       "      <th>Australia - Rank</th>\n",
       "      <th>Austria - Rank</th>\n",
       "      <th>Belgium - Rank</th>\n",
       "      <th>Bolivia - Rank</th>\n",
       "      <th>Brazil - Rank</th>\n",
       "      <th>Bulgaria - Rank</th>\n",
       "      <th>Canada - Rank</th>\n",
       "      <th>Chile - Rank</th>\n",
       "      <th>...</th>\n",
       "      <th>Spain - Rank</th>\n",
       "      <th>Sweden - Rank</th>\n",
       "      <th>Switzerland - Rank</th>\n",
       "      <th>Taiwan - Rank</th>\n",
       "      <th>Thailand - Rank</th>\n",
       "      <th>Turkey - Rank</th>\n",
       "      <th>UK - Rank</th>\n",
       "      <th>USA - Rank</th>\n",
       "      <th>Uruguay - Rank</th>\n",
       "      <th>Vietnam - Rank</th>\n",
       "    </tr>\n",
       "    <tr>\n",
       "      <th>Name of Track</th>\n",
       "      <th>Artist</th>\n",
       "      <th></th>\n",
       "      <th></th>\n",
       "      <th></th>\n",
       "      <th></th>\n",
       "      <th></th>\n",
       "      <th></th>\n",
       "      <th></th>\n",
       "      <th></th>\n",
       "      <th></th>\n",
       "      <th></th>\n",
       "      <th></th>\n",
       "      <th></th>\n",
       "      <th></th>\n",
       "      <th></th>\n",
       "      <th></th>\n",
       "      <th></th>\n",
       "      <th></th>\n",
       "      <th></th>\n",
       "      <th></th>\n",
       "      <th></th>\n",
       "      <th></th>\n",
       "    </tr>\n",
       "  </thead>\n",
       "  <tbody>\n",
       "    <tr>\n",
       "      <th>ROCKSTAR (feat. Roddy Ricch)</th>\n",
       "      <th>DaBaby</th>\n",
       "      <td>1</td>\n",
       "      <td>62</td>\n",
       "      <td>1</td>\n",
       "      <td>3</td>\n",
       "      <td>1</td>\n",
       "      <td>99</td>\n",
       "      <td>67</td>\n",
       "      <td>1</td>\n",
       "      <td>1</td>\n",
       "      <td>132</td>\n",
       "      <td>...</td>\n",
       "      <td>51</td>\n",
       "      <td>3</td>\n",
       "      <td>2</td>\n",
       "      <td>33</td>\n",
       "      <td>80</td>\n",
       "      <td>139</td>\n",
       "      <td>1</td>\n",
       "      <td>7</td>\n",
       "      <td>75</td>\n",
       "      <td>129</td>\n",
       "    </tr>\n",
       "    <tr>\n",
       "      <th>Savage Love (Laxed - Siren Beat)</th>\n",
       "      <th>Jawsh 685</th>\n",
       "      <td>2</td>\n",
       "      <td>129</td>\n",
       "      <td>2</td>\n",
       "      <td>1</td>\n",
       "      <td>2</td>\n",
       "      <td>78</td>\n",
       "      <td>74</td>\n",
       "      <td>10</td>\n",
       "      <td>5</td>\n",
       "      <td>154</td>\n",
       "      <td>...</td>\n",
       "      <td>99</td>\n",
       "      <td>1</td>\n",
       "      <td>1</td>\n",
       "      <td>20</td>\n",
       "      <td>55</td>\n",
       "      <td>201</td>\n",
       "      <td>2</td>\n",
       "      <td>29</td>\n",
       "      <td>137</td>\n",
       "      <td>28</td>\n",
       "    </tr>\n",
       "    <tr>\n",
       "      <th>Blinding Lights</th>\n",
       "      <th>The Weeknd</th>\n",
       "      <td>3</td>\n",
       "      <td>23</td>\n",
       "      <td>7</td>\n",
       "      <td>10</td>\n",
       "      <td>4</td>\n",
       "      <td>12</td>\n",
       "      <td>36</td>\n",
       "      <td>3</td>\n",
       "      <td>13</td>\n",
       "      <td>18</td>\n",
       "      <td>...</td>\n",
       "      <td>32</td>\n",
       "      <td>4</td>\n",
       "      <td>4</td>\n",
       "      <td>53</td>\n",
       "      <td>85</td>\n",
       "      <td>37</td>\n",
       "      <td>8</td>\n",
       "      <td>23</td>\n",
       "      <td>33</td>\n",
       "      <td>92</td>\n",
       "    </tr>\n",
       "    <tr>\n",
       "      <th>Come &amp; Go (with Marshmello)</th>\n",
       "      <th>Juice WRLD</th>\n",
       "      <td>4</td>\n",
       "      <td>201</td>\n",
       "      <td>3</td>\n",
       "      <td>11</td>\n",
       "      <td>26</td>\n",
       "      <td>201</td>\n",
       "      <td>201</td>\n",
       "      <td>15</td>\n",
       "      <td>2</td>\n",
       "      <td>201</td>\n",
       "      <td>...</td>\n",
       "      <td>201</td>\n",
       "      <td>7</td>\n",
       "      <td>20</td>\n",
       "      <td>69</td>\n",
       "      <td>145</td>\n",
       "      <td>201</td>\n",
       "      <td>3</td>\n",
       "      <td>1</td>\n",
       "      <td>201</td>\n",
       "      <td>82</td>\n",
       "    </tr>\n",
       "    <tr>\n",
       "      <th>Watermelon Sugar</th>\n",
       "      <th>Harry Styles</th>\n",
       "      <td>5</td>\n",
       "      <td>22</td>\n",
       "      <td>5</td>\n",
       "      <td>12</td>\n",
       "      <td>7</td>\n",
       "      <td>63</td>\n",
       "      <td>34</td>\n",
       "      <td>5</td>\n",
       "      <td>8</td>\n",
       "      <td>57</td>\n",
       "      <td>...</td>\n",
       "      <td>121</td>\n",
       "      <td>15</td>\n",
       "      <td>11</td>\n",
       "      <td>52</td>\n",
       "      <td>95</td>\n",
       "      <td>201</td>\n",
       "      <td>4</td>\n",
       "      <td>22</td>\n",
       "      <td>38</td>\n",
       "      <td>147</td>\n",
       "    </tr>\n",
       "    <tr>\n",
       "      <th>...</th>\n",
       "      <th>...</th>\n",
       "      <td>...</td>\n",
       "      <td>...</td>\n",
       "      <td>...</td>\n",
       "      <td>...</td>\n",
       "      <td>...</td>\n",
       "      <td>...</td>\n",
       "      <td>...</td>\n",
       "      <td>...</td>\n",
       "      <td>...</td>\n",
       "      <td>...</td>\n",
       "      <td>...</td>\n",
       "      <td>...</td>\n",
       "      <td>...</td>\n",
       "      <td>...</td>\n",
       "      <td>...</td>\n",
       "      <td>...</td>\n",
       "      <td>...</td>\n",
       "      <td>...</td>\n",
       "      <td>...</td>\n",
       "      <td>...</td>\n",
       "      <td>...</td>\n",
       "    </tr>\n",
       "    <tr>\n",
       "      <th>Anh Đợi Em Được Không</th>\n",
       "      <th>201</th>\n",
       "      <td>201</td>\n",
       "      <td>201</td>\n",
       "      <td>201</td>\n",
       "      <td>201</td>\n",
       "      <td>201</td>\n",
       "      <td>201</td>\n",
       "      <td>201</td>\n",
       "      <td>201</td>\n",
       "      <td>201</td>\n",
       "      <td>201</td>\n",
       "      <td>...</td>\n",
       "      <td>201</td>\n",
       "      <td>201</td>\n",
       "      <td>201</td>\n",
       "      <td>201</td>\n",
       "      <td>201</td>\n",
       "      <td>201</td>\n",
       "      <td>201</td>\n",
       "      <td>201</td>\n",
       "      <td>201</td>\n",
       "      <td>195</td>\n",
       "    </tr>\n",
       "    <tr>\n",
       "      <th>Buồn Làm Chi Em Ơi</th>\n",
       "      <th>201</th>\n",
       "      <td>201</td>\n",
       "      <td>201</td>\n",
       "      <td>201</td>\n",
       "      <td>201</td>\n",
       "      <td>201</td>\n",
       "      <td>201</td>\n",
       "      <td>201</td>\n",
       "      <td>201</td>\n",
       "      <td>201</td>\n",
       "      <td>201</td>\n",
       "      <td>...</td>\n",
       "      <td>201</td>\n",
       "      <td>201</td>\n",
       "      <td>201</td>\n",
       "      <td>201</td>\n",
       "      <td>201</td>\n",
       "      <td>201</td>\n",
       "      <td>201</td>\n",
       "      <td>201</td>\n",
       "      <td>201</td>\n",
       "      <td>196</td>\n",
       "    </tr>\n",
       "    <tr>\n",
       "      <th>Liệu Giờ</th>\n",
       "      <th>201</th>\n",
       "      <td>201</td>\n",
       "      <td>201</td>\n",
       "      <td>201</td>\n",
       "      <td>201</td>\n",
       "      <td>201</td>\n",
       "      <td>201</td>\n",
       "      <td>201</td>\n",
       "      <td>201</td>\n",
       "      <td>201</td>\n",
       "      <td>201</td>\n",
       "      <td>...</td>\n",
       "      <td>201</td>\n",
       "      <td>201</td>\n",
       "      <td>201</td>\n",
       "      <td>201</td>\n",
       "      <td>201</td>\n",
       "      <td>201</td>\n",
       "      <td>201</td>\n",
       "      <td>201</td>\n",
       "      <td>201</td>\n",
       "      <td>197</td>\n",
       "    </tr>\n",
       "    <tr>\n",
       "      <th>Túy Họa</th>\n",
       "      <th>201</th>\n",
       "      <td>201</td>\n",
       "      <td>201</td>\n",
       "      <td>201</td>\n",
       "      <td>201</td>\n",
       "      <td>201</td>\n",
       "      <td>201</td>\n",
       "      <td>201</td>\n",
       "      <td>201</td>\n",
       "      <td>201</td>\n",
       "      <td>201</td>\n",
       "      <td>...</td>\n",
       "      <td>201</td>\n",
       "      <td>201</td>\n",
       "      <td>201</td>\n",
       "      <td>201</td>\n",
       "      <td>201</td>\n",
       "      <td>201</td>\n",
       "      <td>201</td>\n",
       "      <td>201</td>\n",
       "      <td>201</td>\n",
       "      <td>199</td>\n",
       "    </tr>\n",
       "    <tr>\n",
       "      <th>Cảm ơn</th>\n",
       "      <th>201</th>\n",
       "      <td>201</td>\n",
       "      <td>201</td>\n",
       "      <td>201</td>\n",
       "      <td>201</td>\n",
       "      <td>201</td>\n",
       "      <td>201</td>\n",
       "      <td>201</td>\n",
       "      <td>201</td>\n",
       "      <td>201</td>\n",
       "      <td>201</td>\n",
       "      <td>...</td>\n",
       "      <td>201</td>\n",
       "      <td>201</td>\n",
       "      <td>201</td>\n",
       "      <td>201</td>\n",
       "      <td>201</td>\n",
       "      <td>201</td>\n",
       "      <td>201</td>\n",
       "      <td>201</td>\n",
       "      <td>201</td>\n",
       "      <td>200</td>\n",
       "    </tr>\n",
       "  </tbody>\n",
       "</table>\n",
       "<p>4548 rows × 64 columns</p>\n",
       "</div>"
      ],
      "text/plain": [
       "                                              Global - Rank_x  \\\n",
       "Name of Track                    Artist                         \n",
       "ROCKSTAR (feat. Roddy Ricch)     DaBaby                     1   \n",
       "Savage Love (Laxed - Siren Beat) Jawsh 685                  2   \n",
       "Blinding Lights                  The Weeknd                 3   \n",
       "Come & Go (with Marshmello)      Juice WRLD                 4   \n",
       "Watermelon Sugar                 Harry Styles               5   \n",
       "...                                                       ...   \n",
       "Anh Đợi Em Được Không            201                      201   \n",
       "Buồn Làm Chi Em Ơi               201                      201   \n",
       "Liệu Giờ                         201                      201   \n",
       "Túy Họa                          201                      201   \n",
       "Cảm ơn                           201                      201   \n",
       "\n",
       "                                              Argentina - Rank  \\\n",
       "Name of Track                    Artist                          \n",
       "ROCKSTAR (feat. Roddy Ricch)     DaBaby                     62   \n",
       "Savage Love (Laxed - Siren Beat) Jawsh 685                 129   \n",
       "Blinding Lights                  The Weeknd                 23   \n",
       "Come & Go (with Marshmello)      Juice WRLD                201   \n",
       "Watermelon Sugar                 Harry Styles               22   \n",
       "...                                                        ...   \n",
       "Anh Đợi Em Được Không            201                       201   \n",
       "Buồn Làm Chi Em Ơi               201                       201   \n",
       "Liệu Giờ                         201                       201   \n",
       "Túy Họa                          201                       201   \n",
       "Cảm ơn                           201                       201   \n",
       "\n",
       "                                              Australia - Rank Austria - Rank  \\\n",
       "Name of Track                    Artist                                         \n",
       "ROCKSTAR (feat. Roddy Ricch)     DaBaby                      1              3   \n",
       "Savage Love (Laxed - Siren Beat) Jawsh 685                   2              1   \n",
       "Blinding Lights                  The Weeknd                  7             10   \n",
       "Come & Go (with Marshmello)      Juice WRLD                  3             11   \n",
       "Watermelon Sugar                 Harry Styles                5             12   \n",
       "...                                                        ...            ...   \n",
       "Anh Đợi Em Được Không            201                       201            201   \n",
       "Buồn Làm Chi Em Ơi               201                       201            201   \n",
       "Liệu Giờ                         201                       201            201   \n",
       "Túy Họa                          201                       201            201   \n",
       "Cảm ơn                           201                       201            201   \n",
       "\n",
       "                                              Belgium - Rank Bolivia - Rank  \\\n",
       "Name of Track                    Artist                                       \n",
       "ROCKSTAR (feat. Roddy Ricch)     DaBaby                    1             99   \n",
       "Savage Love (Laxed - Siren Beat) Jawsh 685                 2             78   \n",
       "Blinding Lights                  The Weeknd                4             12   \n",
       "Come & Go (with Marshmello)      Juice WRLD               26            201   \n",
       "Watermelon Sugar                 Harry Styles              7             63   \n",
       "...                                                      ...            ...   \n",
       "Anh Đợi Em Được Không            201                     201            201   \n",
       "Buồn Làm Chi Em Ơi               201                     201            201   \n",
       "Liệu Giờ                         201                     201            201   \n",
       "Túy Họa                          201                     201            201   \n",
       "Cảm ơn                           201                     201            201   \n",
       "\n",
       "                                              Brazil - Rank Bulgaria - Rank  \\\n",
       "Name of Track                    Artist                                       \n",
       "ROCKSTAR (feat. Roddy Ricch)     DaBaby                  67               1   \n",
       "Savage Love (Laxed - Siren Beat) Jawsh 685               74              10   \n",
       "Blinding Lights                  The Weeknd              36               3   \n",
       "Come & Go (with Marshmello)      Juice WRLD             201              15   \n",
       "Watermelon Sugar                 Harry Styles            34               5   \n",
       "...                                                     ...             ...   \n",
       "Anh Đợi Em Được Không            201                    201             201   \n",
       "Buồn Làm Chi Em Ơi               201                    201             201   \n",
       "Liệu Giờ                         201                    201             201   \n",
       "Túy Họa                          201                    201             201   \n",
       "Cảm ơn                           201                    201             201   \n",
       "\n",
       "                                              Canada - Rank Chile - Rank  ...  \\\n",
       "Name of Track                    Artist                                   ...   \n",
       "ROCKSTAR (feat. Roddy Ricch)     DaBaby                   1          132  ...   \n",
       "Savage Love (Laxed - Siren Beat) Jawsh 685                5          154  ...   \n",
       "Blinding Lights                  The Weeknd              13           18  ...   \n",
       "Come & Go (with Marshmello)      Juice WRLD               2          201  ...   \n",
       "Watermelon Sugar                 Harry Styles             8           57  ...   \n",
       "...                                                     ...          ...  ...   \n",
       "Anh Đợi Em Được Không            201                    201          201  ...   \n",
       "Buồn Làm Chi Em Ơi               201                    201          201  ...   \n",
       "Liệu Giờ                         201                    201          201  ...   \n",
       "Túy Họa                          201                    201          201  ...   \n",
       "Cảm ơn                           201                    201          201  ...   \n",
       "\n",
       "                                              Spain - Rank Sweden - Rank  \\\n",
       "Name of Track                    Artist                                    \n",
       "ROCKSTAR (feat. Roddy Ricch)     DaBaby                 51             3   \n",
       "Savage Love (Laxed - Siren Beat) Jawsh 685              99             1   \n",
       "Blinding Lights                  The Weeknd             32             4   \n",
       "Come & Go (with Marshmello)      Juice WRLD            201             7   \n",
       "Watermelon Sugar                 Harry Styles          121            15   \n",
       "...                                                    ...           ...   \n",
       "Anh Đợi Em Được Không            201                   201           201   \n",
       "Buồn Làm Chi Em Ơi               201                   201           201   \n",
       "Liệu Giờ                         201                   201           201   \n",
       "Túy Họa                          201                   201           201   \n",
       "Cảm ơn                           201                   201           201   \n",
       "\n",
       "                                              Switzerland - Rank  \\\n",
       "Name of Track                    Artist                            \n",
       "ROCKSTAR (feat. Roddy Ricch)     DaBaby                        2   \n",
       "Savage Love (Laxed - Siren Beat) Jawsh 685                     1   \n",
       "Blinding Lights                  The Weeknd                    4   \n",
       "Come & Go (with Marshmello)      Juice WRLD                   20   \n",
       "Watermelon Sugar                 Harry Styles                 11   \n",
       "...                                                          ...   \n",
       "Anh Đợi Em Được Không            201                         201   \n",
       "Buồn Làm Chi Em Ơi               201                         201   \n",
       "Liệu Giờ                         201                         201   \n",
       "Túy Họa                          201                         201   \n",
       "Cảm ơn                           201                         201   \n",
       "\n",
       "                                              Taiwan - Rank Thailand - Rank  \\\n",
       "Name of Track                    Artist                                       \n",
       "ROCKSTAR (feat. Roddy Ricch)     DaBaby                  33              80   \n",
       "Savage Love (Laxed - Siren Beat) Jawsh 685               20              55   \n",
       "Blinding Lights                  The Weeknd              53              85   \n",
       "Come & Go (with Marshmello)      Juice WRLD              69             145   \n",
       "Watermelon Sugar                 Harry Styles            52              95   \n",
       "...                                                     ...             ...   \n",
       "Anh Đợi Em Được Không            201                    201             201   \n",
       "Buồn Làm Chi Em Ơi               201                    201             201   \n",
       "Liệu Giờ                         201                    201             201   \n",
       "Túy Họa                          201                    201             201   \n",
       "Cảm ơn                           201                    201             201   \n",
       "\n",
       "                                              Turkey - Rank UK - Rank  \\\n",
       "Name of Track                    Artist                                 \n",
       "ROCKSTAR (feat. Roddy Ricch)     DaBaby                 139         1   \n",
       "Savage Love (Laxed - Siren Beat) Jawsh 685              201         2   \n",
       "Blinding Lights                  The Weeknd              37         8   \n",
       "Come & Go (with Marshmello)      Juice WRLD             201         3   \n",
       "Watermelon Sugar                 Harry Styles           201         4   \n",
       "...                                                     ...       ...   \n",
       "Anh Đợi Em Được Không            201                    201       201   \n",
       "Buồn Làm Chi Em Ơi               201                    201       201   \n",
       "Liệu Giờ                         201                    201       201   \n",
       "Túy Họa                          201                    201       201   \n",
       "Cảm ơn                           201                    201       201   \n",
       "\n",
       "                                              USA - Rank Uruguay - Rank  \\\n",
       "Name of Track                    Artist                                   \n",
       "ROCKSTAR (feat. Roddy Ricch)     DaBaby                7             75   \n",
       "Savage Love (Laxed - Siren Beat) Jawsh 685            29            137   \n",
       "Blinding Lights                  The Weeknd           23             33   \n",
       "Come & Go (with Marshmello)      Juice WRLD            1            201   \n",
       "Watermelon Sugar                 Harry Styles         22             38   \n",
       "...                                                  ...            ...   \n",
       "Anh Đợi Em Được Không            201                 201            201   \n",
       "Buồn Làm Chi Em Ơi               201                 201            201   \n",
       "Liệu Giờ                         201                 201            201   \n",
       "Túy Họa                          201                 201            201   \n",
       "Cảm ơn                           201                 201            201   \n",
       "\n",
       "                                              Vietnam - Rank  \n",
       "Name of Track                    Artist                       \n",
       "ROCKSTAR (feat. Roddy Ricch)     DaBaby                  129  \n",
       "Savage Love (Laxed - Siren Beat) Jawsh 685                28  \n",
       "Blinding Lights                  The Weeknd               92  \n",
       "Come & Go (with Marshmello)      Juice WRLD               82  \n",
       "Watermelon Sugar                 Harry Styles            147  \n",
       "...                                                      ...  \n",
       "Anh Đợi Em Được Không            201                     195  \n",
       "Buồn Làm Chi Em Ơi               201                     196  \n",
       "Liệu Giờ                         201                     197  \n",
       "Túy Họa                          201                     199  \n",
       "Cảm ơn                           201                     200  \n",
       "\n",
       "[4548 rows x 64 columns]"
      ]
     },
     "execution_count": 6,
     "metadata": {},
     "output_type": "execute_result"
    }
   ],
   "source": [
    "#Now let's repeat the process we did with the global chart with all the countries' charts\n",
    "\n",
    "#establishing counter for country header labels\n",
    "i = 0\n",
    "\n",
    "#setting up final df before loop\n",
    "total_chart_df = pd.DataFrame()\n",
    "total_chart_df = pd.concat([globalchart_clean_df, total_chart_df], axis = 1)\n",
    "\n",
    "#looping to save time yay\n",
    "for country in chart_list:\n",
    "    \n",
    "    country_df = pd.read_csv(country)\n",
    "    \n",
    "#still struggling to have same command on different lines so it's just long, sorry\n",
    "    country_df = country_df.drop(columns=['Note that these figures are generated using a formula that protects ' +\n",
    "                                          'against any artificial inflation of chart positions.', 'Unnamed: 4', \n",
    "                                          'Unnamed: 2'])\n",
    "\n",
    "#Is there a cleaner way to do this? Maybe having headers for each DF, but wasn't sure how to go\n",
    "#about that so formatting is a little iffy\n",
    "    country_df = country_df.rename(columns = {'Unnamed: 0' : country_list[i] + ' - Rank', 'Unnamed: 1' : \n",
    "                                              'Name of Track'})\n",
    " \n",
    "    i = i + 1\n",
    "    \n",
    "    total_chart_df = pd.merge(total_chart_df, country_df.drop_duplicates(subset=[\"Name of Track\"], keep='first'), \n",
    "                                how='outer', on=\"Name of Track\") #this merges on song name\n",
    "\n",
    "#removing duplicate labelings\n",
    "\n",
    "total_chart_df = total_chart_df.iloc[1:]\n",
    "\n",
    "#replacing NaN values with 201 since we are looking at the top 200 songs\n",
    "total_chart_df = total_chart_df.fillna(201)\n",
    "\n",
    "#final chart\n",
    "total_chart_df = total_chart_df.set_index(['Name of Track','Artist'])\n",
    "\n",
    "total_chart_df\n",
    "\n",
    "#total_chart_df_t = total_chart_df.transpose()\n",
    "#total_chart_df_t\n",
    "\n"
   ]
  },
  {
   "cell_type": "code",
   "execution_count": 26,
   "metadata": {},
   "outputs": [
    {
     "data": {
      "text/plain": [
       "<matplotlib.axes._subplots.AxesSubplot at 0x7fc79efdcd68>"
      ]
     },
     "execution_count": 26,
     "metadata": {},
     "output_type": "execute_result"
    },
    {
     "data": {
      "image/png": "[encoded data removed]",
      "text/plain": [
       "<Figure size 1440x1440 with 1 Axes>"
      ]
     },
     "metadata": {
      "needs_background": "light"
     },
     "output_type": "display_data"
    }
   ],
   "source": [
    "#Now that we have our data compiled and sorted, we can begin looking at it statistically\n",
    "\n",
    "#So I'm thinking that we have several questions we could examine...\n",
    "\n",
    "\n",
    "#We can look at the distribution of these songs compared to the global rankings in particular countries to see if it \n",
    "#there is a relation in terms of \n",
    "\n",
    "\n",
    "\n",
    "#getting data from top 10 songs on global playlist\n",
    "topsongs_df = total_chart_df.iloc[0:10]\n",
    "topsongs_df = topsongs_df.astype('int32')\n",
    "#topsongs_df\n",
    "#descriptor = topsongs_df.describe()\n",
    "#average = topsongs_df.mean(axis=1)\n",
    "\n",
    "#print(topsongs_df.corr())\n",
    "#choosing these countries based on article \n",
    "df = topsongs_df[['Global - Rank_x', 'USA - Rank', 'Germany - Rank','UK - Rank', 'Japan - Rank', 'France - Rank',\n",
    "                  'Canada - Rank', 'Australia - Rank', 'Russia - Rank', 'Netherlands - Rank','Hong Kong - Rank']]\n",
    "\n",
    "plt.figure(figsize=(20,20))\n",
    "plt.title(\"Rank Distribution of Top 10 Songs Globally in Top Musical Countries\")\n",
    "plt.xlabel(\"Countries\")\n",
    "plt.ylabel(\"Rank Distribtion\")\n",
    "plt.ylim(-20,220)\n",
    "plt.xlim(-20,220)\n",
    "sns.boxplot(data=df)\n",
    "\n",
    "\n"
   ]
  },
  {
   "cell_type": "code",
   "execution_count": 45,
   "metadata": {},
   "outputs": [
    {
     "data": {
      "text/plain": [
       "LinregressResult(slope=-1.3333333333333333, intercept=20.733333333333334, rvalue=-0.34358562822619454, pvalue=0.3310249642170148, stderr=1.2884882693303887)"
      ]
     },
     "execution_count": 45,
     "metadata": {},
     "output_type": "execute_result"
    },
    {
     "data": {
      "image/png": "[encoded data removed]",
      "text/plain": [
       "<Figure size 360x360 with 1 Axes>"
      ]
     },
     "metadata": {
      "needs_background": "light"
     },
     "output_type": "display_data"
    }
   ],
   "source": [
    "#based on the chart above, it appears that Canada, Australia, and the UK seem to have the strongest correlations. \n",
    "#Let's check.\n",
    "\n",
    "#shows comparison between all countries in scatter plot, pretty cool\n",
    "#sns.pairplot(df, kind=\"scatter\")\n",
    "#plt.show();\n",
    "\n",
    "\n",
    "#This will look at USA relations with the Global hits\n",
    "sns.lmplot(x='Global - Rank_x', y='USA - Rank', data=df)\n",
    "#np.corrcoef(df['Global - Rank_x'], df['USA - Rank']) \n",
    "\n",
    "from scipy.stats import linregress\n",
    "linregress(df['Global - Rank_x'], df['USA - Rank'])\n"
   ]
  },
  {
   "cell_type": "code",
   "execution_count": 47,
   "metadata": {},
   "outputs": [
    {
     "data": {
      "text/plain": [
       "LinregressResult(slope=6.418181818181819, intercept=-5.0000000000000036, rvalue=0.9247398957387749, pvalue=0.00012807524059594332, stderr=0.933933297917296)"
      ]
     },
     "execution_count": 47,
     "metadata": {},
     "output_type": "execute_result"
    },
    {
     "data": {
      "image/png": "[encoded data removed]",
      "text/plain": [
       "<Figure size 360x360 with 1 Axes>"
      ]
     },
     "metadata": {
      "needs_background": "light"
     },
     "output_type": "display_data"
    }
   ],
   "source": [
    "#This will look at Germany relations with the Global hits\n",
    "sns.lmplot(x='Global - Rank_x', y='Germany - Rank', data=df)\n",
    "\n",
    "from scipy.stats import linregress\n",
    "linregress(df['Global - Rank_x'], df['Germany - Rank'])"
   ]
  },
  {
   "cell_type": "code",
   "execution_count": 49,
   "metadata": {},
   "outputs": [
    {
     "data": {
      "text/plain": [
       "LinregressResult(slope=1.7454545454545456, intercept=-0.20000000000000107, rvalue=0.7554606755491736, pvalue=0.011505387662043558, stderr=0.5352067647103647)"
      ]
     },
     "execution_count": 49,
     "metadata": {},
     "output_type": "execute_result"
    },
    {
     "data": {
      "image/png": "[encoded data removed]",
      "text/plain": [
       "<Figure size 360x360 with 1 Axes>"
      ]
     },
     "metadata": {
      "needs_background": "light"
     },
     "output_type": "display_data"
    }
   ],
   "source": [
    "#This will look at UK relations with the Global hits\n",
    "\n",
    "sns.lmplot(x='Global - Rank_x', y='UK - Rank', data=df)\n",
    "\n",
    "from scipy.stats import linregress\n",
    "linregress(df['Global - Rank_x'], df['UK - Rank'])"
   ]
  },
  {
   "cell_type": "code",
   "execution_count": 50,
   "metadata": {},
   "outputs": [
    {
     "data": {
      "text/plain": [
       "LinregressResult(slope=11.066666666666668, intercept=108.13333333333333, rvalue=0.863523489389934, pvalue=0.001283072371571684, stderr=2.285041387243159)"
      ]
     },
     "execution_count": 50,
     "metadata": {},
     "output_type": "execute_result"
    },
    {
     "data": {
      "image/png": "[encoded data removed]",
      "text/plain": [
       "<Figure size 360x360 with 1 Axes>"
      ]
     },
     "metadata": {
      "needs_background": "light"
     },
     "output_type": "display_data"
    }
   ],
   "source": [
    "#This will look at Japan relations with the Global hits\n",
    "\n",
    "sns.lmplot(x='Global - Rank_x', y='Japan - Rank', data=df)\n",
    "\n",
    "from scipy.stats import linregress\n",
    "linregress(df['Global - Rank_x'], df['Japan - Rank'])"
   ]
  },
  {
   "cell_type": "code",
   "execution_count": 51,
   "metadata": {},
   "outputs": [
    {
     "data": {
      "text/plain": [
       "LinregressResult(slope=19.369696969696967, intercept=-20.333333333333314, rvalue=0.6922802653013667, pvalue=0.02651835701515429, stderr=7.138544992485074)"
      ]
     },
     "execution_count": 51,
     "metadata": {},
     "output_type": "execute_result"
    },
    {
     "data": {
      "image/png": "[encoded data removed]",
      "text/plain": [
       "<Figure size 360x360 with 1 Axes>"
      ]
     },
     "metadata": {
      "needs_background": "light"
     },
     "output_type": "display_data"
    }
   ],
   "source": [
    "#This will look at France relations to the Global hits\n",
    "\n",
    "sns.lmplot(x='Global - Rank_x', y='France - Rank', data=df)\n",
    "\n",
    "from scipy.stats import linregress\n",
    "linregress(df['Global - Rank_x'], df['France - Rank'])"
   ]
  },
  {
   "cell_type": "code",
   "execution_count": 52,
   "metadata": {},
   "outputs": [
    {
     "data": {
      "text/plain": [
       "LinregressResult(slope=0.4181818181818182, intercept=3.7999999999999994, rvalue=0.3155425479505095, pvalue=0.37446841501552, stderr=0.4446188822049994)"
      ]
     },
     "execution_count": 52,
     "metadata": {},
     "output_type": "execute_result"
    },
    {
     "data": {
      "image/png": "[encoded data removed]",
      "text/plain": [
       "<Figure size 360x360 with 1 Axes>"
      ]
     },
     "metadata": {
      "needs_background": "light"
     },
     "output_type": "display_data"
    }
   ],
   "source": [
    "#This will look at Canada relations to the Global hits\n",
    "\n",
    "sns.lmplot(x='Global - Rank_x', y='Canada - Rank', data=df)\n",
    "\n",
    "from scipy.stats import linregress\n",
    "linregress(df['Global - Rank_x'], df['Canada - Rank'])"
   ]
  },
  {
   "cell_type": "code",
   "execution_count": 53,
   "metadata": {},
   "outputs": [
    {
     "data": {
      "text/plain": [
       "LinregressResult(slope=1.3151515151515154, intercept=-0.5333333333333341, rvalue=0.8241186410211404, pvalue=0.0033660815206674553, stderr=0.3195784643208418)"
      ]
     },
     "execution_count": 53,
     "metadata": {},
     "output_type": "execute_result"
    },
    {
     "data": {
      "image/png": "[encoded data removed]",
      "text/plain": [
       "<Figure size 360x360 with 1 Axes>"
      ]
     },
     "metadata": {
      "needs_background": "light"
     },
     "output_type": "display_data"
    }
   ],
   "source": [
    "#This will look at Australia relations to Global hits\n",
    "\n",
    "sns.lmplot(x='Global - Rank_x', y='Australia - Rank', data=df)\n",
    "\n",
    "from scipy.stats import linregress\n",
    "linregress(df['Global - Rank_x'], df['Australia - Rank'])"
   ]
  },
  {
   "cell_type": "code",
   "execution_count": 54,
   "metadata": {},
   "outputs": [
    {
     "data": {
      "text/plain": [
       "LinregressResult(slope=3.3636363636363638, intercept=-4.4, rvalue=0.725594351403914, pvalue=0.017534766094198465, stderr=1.1278102335344427)"
      ]
     },
     "execution_count": 54,
     "metadata": {},
     "output_type": "execute_result"
    },
    {
     "data": {
      "image/png": "[encoded data removed]",
      "text/plain": [
       "<Figure size 360x360 with 1 Axes>"
      ]
     },
     "metadata": {
      "needs_background": "light"
     },
     "output_type": "display_data"
    }
   ],
   "source": [
    "#This will look at Russia's relation to the Global Hits\n",
    "\n",
    "sns.lmplot(x='Global - Rank_x', y='Russia - Rank', data=df)\n",
    "\n",
    "from scipy.stats import linregress\n",
    "linregress(df['Global - Rank_x'], df['Russia - Rank'])"
   ]
  },
  {
   "cell_type": "code",
   "execution_count": 55,
   "metadata": {},
   "outputs": [
    {
     "data": {
      "text/plain": [
       "LinregressResult(slope=6.072727272727273, intercept=-0.4000000000000057, rvalue=0.8603790772691544, pvalue=0.0013998968077233195, stderr=1.271817856910739)"
      ]
     },
     "execution_count": 55,
     "metadata": {},
     "output_type": "execute_result"
    },
    {
     "data": {
      "image/png": "[encoded data removed]",
      "text/plain": [
       "<Figure size 360x360 with 1 Axes>"
      ]
     },
     "metadata": {
      "needs_background": "light"
     },
     "output_type": "display_data"
    }
   ],
   "source": [
    "#This will look at Netherlands' relation to the Global hits\n",
    "\n",
    "sns.lmplot(x='Global - Rank_x', y='Netherlands - Rank', data=df)\n",
    "\n",
    "from scipy.stats import linregress\n",
    "linregress(df['Global - Rank_x'], df['Netherlands - Rank'])"
   ]
  },
  {
   "cell_type": "code",
   "execution_count": 56,
   "metadata": {},
   "outputs": [
    {
     "data": {
      "text/plain": [
       "LinregressResult(slope=8.181818181818182, intercept=-6.600000000000001, rvalue=0.7313822016625025, pvalue=0.016226012983655128, stderr=2.697269305795952)"
      ]
     },
     "execution_count": 56,
     "metadata": {},
     "output_type": "execute_result"
    },
    {
     "data": {
      "image/png": "[encoded data removed]",
      "text/plain": [
       "<Figure size 360x360 with 1 Axes>"
      ]
     },
     "metadata": {
      "needs_background": "light"
     },
     "output_type": "display_data"
    }
   ],
   "source": [
    "#This will look at Hong Kong's relation with the Global hits\n",
    "\n",
    "sns.lmplot(x='Global - Rank_x', y='Hong Kong - Rank', data=df)\n",
    "\n",
    "from scipy.stats import linregress\n",
    "linregress(df['Global - Rank_x'], df['Hong Kong - Rank'])"
   ]
  },
  {
   "cell_type": "code",
   "execution_count": null,
   "metadata": {},
   "outputs": [],
   "source": [
    "#We could look at some of the top songs in the global playlist and run a test on rank placement\n",
    "#distribution for countries listed"
   ]
  },
  {
   "cell_type": "code",
   "execution_count": null,
   "metadata": {},
   "outputs": [],
   "source": [
    "#We can look at stream numbers (not listed here but available) relative to population, because that figure\n",
    "#may be a more accurate representation of popularity potentially"
   ]
  },
  {
   "cell_type": "code",
   "execution_count": null,
   "metadata": {},
   "outputs": [],
   "source": [
    "#We could compare based on national tongue (does this have an impact on what songs are popular? - I noticed\n",
    "#when looking at the data that certain songs were)"
   ]
  }
 ],
 "metadata": {
  "kernelspec": {
   "display_name": "Python [conda env:PythonData]",
   "language": "python",
   "name": "conda-env-PythonData-py"
  },
  "language_info": {
   "codemirror_mode": {
    "name": "ipython",
    "version": 3
   },
   "file_extension": ".py",
   "mimetype": "text/x-python",
   "name": "python",
   "nbconvert_exporter": "python",
   "pygments_lexer": "ipython3",
   "version": "3.6.10"
  }
 },
 "nbformat": 4,
 "nbformat_minor": 4
}
